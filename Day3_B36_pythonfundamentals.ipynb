{
 "cells": [
  {
   "cell_type": "code",
   "execution_count": 1,
   "metadata": {},
   "outputs": [
    {
     "name": "stdout",
     "output_type": "stream",
     "text": [
      "rajesh robin\n"
     ]
    }
   ],
   "source": [
    "fullname = 'rajesh robin'\n",
    "print(fullname)"
   ]
  },
  {
   "cell_type": "code",
   "execution_count": 2,
   "metadata": {},
   "outputs": [
    {
     "name": "stdout",
     "output_type": "stream",
     "text": [
      "Rajesh Robin\n"
     ]
    }
   ],
   "source": [
    "fullname = 'rajesh robin'\n",
    "print(fullname.title())"
   ]
  },
  {
   "cell_type": "code",
   "execution_count": 3,
   "metadata": {},
   "outputs": [
    {
     "name": "stdout",
     "output_type": "stream",
     "text": [
      "RAJESH ROBIN\n"
     ]
    }
   ],
   "source": [
    "fullname = 'rajesh robin'\n",
    "print(fullname.upper())"
   ]
  },
  {
   "cell_type": "code",
   "execution_count": 4,
   "metadata": {},
   "outputs": [
    {
     "name": "stdout",
     "output_type": "stream",
     "text": [
      "rajesh robin\n"
     ]
    }
   ],
   "source": [
    "fullname ='rajesh robin'\n",
    "print(fullname.lower())\n"
   ]
  },
  {
   "cell_type": "code",
   "execution_count": 5,
   "metadata": {},
   "outputs": [
    {
     "name": "stdout",
     "output_type": "stream",
     "text": [
      "ganeshgujar\n"
     ]
    }
   ],
   "source": [
    "firstname = 'ganesh'\n",
    "lastname = 'gujar'\n",
    "fullname = f\"{firstname}{lastname}\"\n",
    "print(fullname)"
   ]
  },
  {
   "cell_type": "code",
   "execution_count": 6,
   "metadata": {},
   "outputs": [
    {
     "ename": "SyntaxError",
     "evalue": "invalid syntax (<ipython-input-6-e7f8119284c0>, line 4)",
     "output_type": "error",
     "traceback": [
      "\u001b[1;36m  File \u001b[1;32m\"<ipython-input-6-e7f8119284c0>\"\u001b[1;36m, line \u001b[1;32m4\u001b[0m\n\u001b[1;33m    print{fullname}\u001b[0m\n\u001b[1;37m         ^\u001b[0m\n\u001b[1;31mSyntaxError\u001b[0m\u001b[1;31m:\u001b[0m invalid syntax\n"
     ]
    }
   ],
   "source": [
    "firstname = 'ganesh'\n",
    "lastname = 'gujar'\n",
    "fullname = f\"{firstname} {lastname}\"\n",
    "print{fullname}"
   ]
  },
  {
   "cell_type": "code",
   "execution_count": 7,
   "metadata": {},
   "outputs": [
    {
     "name": "stdout",
     "output_type": "stream",
     "text": [
      "ganesh gujar\n"
     ]
    }
   ],
   "source": [
    "firstname = 'ganesh'\n",
    "lastname = 'gujar'\n",
    "fullname = f\"{firstname} {lastname}\"\n",
    "print(fullname)"
   ]
  },
  {
   "cell_type": "code",
   "execution_count": 8,
   "metadata": {},
   "outputs": [
    {
     "name": "stdout",
     "output_type": "stream",
     "text": [
      "Ganesh Gujar\n"
     ]
    }
   ],
   "source": [
    "firstname = 'ganesh'\n",
    "lastname = 'gujar'\n",
    "fullname = f\"{firstname} {lastname}\"\n",
    "print(fullname.title())"
   ]
  },
  {
   "cell_type": "code",
   "execution_count": 9,
   "metadata": {},
   "outputs": [
    {
     "ename": "SyntaxError",
     "evalue": "EOL while scanning string literal (<ipython-input-9-9d6c88d78003>, line 4)",
     "output_type": "error",
     "traceback": [
      "\u001b[1;36m  File \u001b[1;32m\"<ipython-input-9-9d6c88d78003>\"\u001b[1;36m, line \u001b[1;32m4\u001b[0m\n\u001b[1;33m    print(f\"Hello, {fullname.title()})\u001b[0m\n\u001b[1;37m                                      ^\u001b[0m\n\u001b[1;31mSyntaxError\u001b[0m\u001b[1;31m:\u001b[0m EOL while scanning string literal\n"
     ]
    }
   ],
   "source": [
    "firstname = 'ganesh'\n",
    "lastname = 'gujar'\n",
    "fullname = f\"{firstname} {lastname}\"\n",
    "print(f\"Hello, {fullname.title()})"
   ]
  },
  {
   "cell_type": "code",
   "execution_count": 10,
   "metadata": {},
   "outputs": [
    {
     "name": "stdout",
     "output_type": "stream",
     "text": [
      " Hello, Ganesh\n"
     ]
    }
   ],
   "source": [
    "firstname = 'ganesh'\n",
    "lastname = 'gujar'\n",
    "fullname = f\"{firstname} {lastname}\"\n",
    "print(f\" Hello, {firstname.title()}\")"
   ]
  },
  {
   "cell_type": "code",
   "execution_count": 11,
   "metadata": {},
   "outputs": [
    {
     "name": "stdout",
     "output_type": "stream",
     "text": [
      "Hello, Ganesh Gujar\n"
     ]
    }
   ],
   "source": [
    "firstname = 'ganesh'\n",
    "lastname = 'gujar'\n",
    "fullname = f\"{firstname} {lastname}\"\n",
    "print(f\"Hello, {fullname.title()}\")"
   ]
  },
  {
   "cell_type": "code",
   "execution_count": 12,
   "metadata": {},
   "outputs": [
    {
     "name": "stdout",
     "output_type": "stream",
     "text": [
      "languages: pythoncjavac++\n"
     ]
    }
   ],
   "source": [
    "print(\"languages: pythoncjavac++\")"
   ]
  },
  {
   "cell_type": "code",
   "execution_count": 13,
   "metadata": {},
   "outputs": [
    {
     "name": "stdout",
     "output_type": "stream",
     "text": [
      "languages: \n",
      "python\n",
      "c\n",
      "java\\c++\n"
     ]
    }
   ],
   "source": [
    "print(\"languages: \\npython\\nc\\njava\\c++\")"
   ]
  },
  {
   "cell_type": "code",
   "execution_count": 14,
   "metadata": {},
   "outputs": [
    {
     "name": "stdout",
     "output_type": "stream",
     "text": [
      "languages: \n",
      "\tpython\n",
      "\tc\n",
      "\tjava\n",
      "\tc++\n"
     ]
    }
   ],
   "source": [
    "print(\"languages: \\n\\tpython\\n\\tc\\n\\tjava\\n\\tc++\")"
   ]
  },
  {
   "cell_type": "code",
   "execution_count": null,
   "metadata": {},
   "outputs": [],
   "source": []
  }
 ],
 "metadata": {
  "kernelspec": {
   "display_name": "Python 3",
   "language": "python",
   "name": "python3"
  },
  "language_info": {
   "codemirror_mode": {
    "name": "ipython",
    "version": 3
   },
   "file_extension": ".py",
   "mimetype": "text/x-python",
   "name": "python",
   "nbconvert_exporter": "python",
   "pygments_lexer": "ipython3",
   "version": "3.8.3"
  }
 },
 "nbformat": 4,
 "nbformat_minor": 4
}
